{
 "cells": [
  {
   "cell_type": "code",
   "execution_count": 31,
   "metadata": {},
   "outputs": [],
   "source": [
    "import operator as op\n",
    "import math\n",
    "import numpy as np\n",
    "from itertools import combinations "
   ]
  },
  {
   "cell_type": "code",
   "execution_count": 15,
   "metadata": {},
   "outputs": [],
   "source": [
    "N=100 #number of students\n",
    "C=20 #number of classes\n",
    "mu=15.0 #avg number of students per class\n",
    "sd=5.0 #std dev of students per class\n",
    "\n",
    "A1=np.zeros((N,N)) #adjacency matrix"
   ]
  },
  {
   "cell_type": "code",
   "execution_count": 3,
   "metadata": {},
   "outputs": [],
   "source": [
    "floorfunc=np.vectorize(math.floor)\n",
    "Cn=floorfunc(np.random.normal(mu,sd,size=(C,1))) #sampling class size N(15,5^2),capped at N\n",
    "#print(Cn)"
   ]
  },
  {
   "cell_type": "code",
   "execution_count": 16,
   "metadata": {},
   "outputs": [],
   "source": [
    "for i in range(C): #loop through each class\n",
    "    currentS=np.random.choice(N,size=(int(Cn[i]),1),replace=False)\n",
    "    #random sample from students to decide which students are in current class\n",
    "    currentA=combinations(currentS,2) #find all connections to be filled in adjacency matrix\n",
    "    for j in list(currentA):\n",
    "        A1[j[0],j[1]]=1\n",
    "        A1[j[1],j[0]]=1\n",
    "    "
   ]
  },
  {
   "cell_type": "code",
   "execution_count": 17,
   "metadata": {},
   "outputs": [
    {
     "name": "stdout",
     "output_type": "stream",
     "text": [
      "[[0. 0. 0. ... 0. 0. 0.]\n",
      " [0. 0. 1. ... 0. 1. 0.]\n",
      " [0. 1. 0. ... 0. 0. 0.]\n",
      " ...\n",
      " [0. 0. 0. ... 0. 1. 0.]\n",
      " [0. 1. 0. ... 1. 0. 0.]\n",
      " [0. 0. 0. ... 0. 0. 0.]]\n"
     ]
    }
   ],
   "source": [
    "print(A1)"
   ]
  },
  {
   "cell_type": "markdown",
   "metadata": {},
   "source": [
    "Following is the second method, where we have a number of majors and students, as well as courses, are allocated across majors. Therefore, this method should have clusters that are more concentrated while still connected."
   ]
  },
  {
   "cell_type": "code",
   "execution_count": 51,
   "metadata": {},
   "outputs": [
    {
     "name": "stdout",
     "output_type": "stream",
     "text": [
      "[27 40 27  6]\n",
      "[  0  27  67  94 100]\n"
     ]
    }
   ],
   "source": [
    "M=4 #number of majors. Here in second method, we incorporate the ideas of having majors \n",
    "#and different students have priority taking their major core courses\n",
    "plug=0.1\n",
    "mp=np.append(np.repeat((1-plug)/(M-1),M-1),plug) #probability vector for each student to be one of the four major\n",
    "MS=np.random.multinomial(N,mp) #number of studetns randomly allocated to the M majors\n",
    "cumMS=np.cumsum(MS)\n",
    "cumMS=np.insert(cumMS,0,0)\n",
    "\n",
    "print(MS)\n",
    "print(cumMS)\n",
    "\n",
    "\n",
    "A2=np.zeros((N,N))"
   ]
  },
  {
   "cell_type": "code",
   "execution_count": 45,
   "metadata": {},
   "outputs": [],
   "source": [
    "CS=np.random.multinomial(C,mp); #number of classes opened by the M majors respectively"
   ]
  },
  {
   "cell_type": "code",
   "execution_count": 64,
   "metadata": {},
   "outputs": [],
   "source": [
    "minfunc=np.vectorize(min)\n",
    "for i in range(C): #loop through each class\n",
    "    for j in range(M):\n",
    "        currentOutMajorPopulation=np.delete(range(N),range(cumMS[j],cumMS[j+1]))\n",
    "        #print(currentOutMajorPopulation)\n",
    "        if i<=cumMS[j+1] and i>cumMS[j]:\n",
    "            inMajorS=minfunc(int(Cn[i]*0.8),MS[j]) #assume 80% are in-major students, \n",
    "                                                     #but capped at the max possible students taking this major\n",
    "            outMajorS=Cn[i]-inMajorS\n",
    "            #print(inMajorS)\n",
    "            #print(outMajorS)\n",
    "            currentInMajorS=cumMS[j]+np.random.choice(MS[j],size=(inMajorS,1),replace=False)\n",
    "            currentOutMajorS=np.random.choice(currentOutMajorPopulation,size=(outMajorS[0],1),replace=False)\n",
    "            \n",
    "    currentS=np.append(currentInMajorS,currentOutMajorS);\n",
    "    currentA=combinations(currentS,2) #find all connections to be filled in adjacency matrix\n",
    "    for k in list(currentA):\n",
    "        A2[k[0],k[1]]=1\n",
    "        A2[k[1],k[0]]=1"
   ]
  },
  {
   "cell_type": "code",
   "execution_count": 65,
   "metadata": {},
   "outputs": [
    {
     "name": "stdout",
     "output_type": "stream",
     "text": [
      "[[0. 1. 1. ... 1. 0. 0.]\n",
      " [1. 0. 1. ... 1. 0. 0.]\n",
      " [1. 1. 0. ... 1. 0. 1.]\n",
      " ...\n",
      " [1. 1. 1. ... 0. 0. 0.]\n",
      " [0. 0. 0. ... 0. 0. 0.]\n",
      " [0. 0. 1. ... 0. 0. 0.]]\n"
     ]
    }
   ],
   "source": [
    "print(A2)"
   ]
  },
  {
   "cell_type": "code",
   "execution_count": null,
   "metadata": {},
   "outputs": [],
   "source": []
  }
 ],
 "metadata": {
  "kernelspec": {
   "display_name": "Python 3",
   "language": "python",
   "name": "python3"
  },
  "language_info": {
   "codemirror_mode": {
    "name": "ipython",
    "version": 3
   },
   "file_extension": ".py",
   "mimetype": "text/x-python",
   "name": "python",
   "nbconvert_exporter": "python",
   "pygments_lexer": "ipython3",
   "version": "3.7.6"
  }
 },
 "nbformat": 4,
 "nbformat_minor": 4
}
