{
 "cells": [
  {
   "cell_type": "code",
   "execution_count": 1,
   "metadata": {},
   "outputs": [],
   "source": [
    "from simulation_helpers import *\n",
    "from heuristics import *\n",
    "from optimal_policy import V\n",
    "import pandas as pd"
   ]
  },
  {
   "cell_type": "markdown",
   "metadata": {},
   "source": [
    "### Optimal Policy vs Heuristic Tests"
   ]
  },
  {
   "cell_type": "code",
   "execution_count": 6,
   "metadata": {
    "scrolled": true
   },
   "outputs": [],
   "source": [
    "graph_connectedness = [0.01, 0.1, 0.5, 1]\n",
    "p_list = [1]\n",
    "q_list =[0, 1]\n",
    "n_list = [2,3,4,5,8]\n",
    "H = 5\n",
    "M = 20\n",
    "heuristics = [selectRandom, highRisk, highConnection, highBelief, sampleBelief, highBeliefRisk]\n",
    "num_sim_heur = 1000\n",
    "num_sim_A = 3\n",
    "\n",
    "results = pd.DataFrame()\n",
    "for n in n_list:\n",
    "    print('Running size: ', n)\n",
    "    for adj_con in graph_connectedness:\n",
    "        for i in range(num_sim_A):\n",
    "            A = generateAdjacenyMatrix(n, adj_con)\n",
    "            for p in p_list:\n",
    "                for q in q_list:\n",
    "                    for L in np.arange(n):\n",
    "                        #Compute optimal Policy\n",
    "                        print('Running Optimal')\n",
    "                        V_saved = {}\n",
    "                        A_saved = {}\n",
    "                        res_opt = []\n",
    "                        for h in range(H+1):\n",
    "                            res_opt.append(V(np.ones(n), np.ones(n)/n * M, h, False, p, q, L, A, V_saved, A_saved, M=M))\n",
    "                        \n",
    "                        result = pd.DataFrame({'infected': res_opt,\n",
    "                                                   'h': np.arange(H+1),\n",
    "                                                   'algo': 'optimal',\n",
    "                                                    'p': p,\n",
    "                                                  'q': q,\n",
    "                                                  'L': L,\n",
    "                                                  'connectedness': adj_con,\n",
    "                                                  'sim_id': i})\n",
    "                        results = results.append(result)\n",
    "                        \n",
    "                        #Get simulated results for heuristic\n",
    "                        for algo in heuristics:\n",
    "                            print('Running: ', algo.__name__)\n",
    "                            heuristic_res = []\n",
    "                            for j in range(num_sim_heur):\n",
    "                                heuristic_res.append(sample(selectRandom, \n",
    "                                                  np.ones(n).astype(np.bool), \n",
    "                                                  H, p, q, L, A, n))\n",
    "                            result = pd.DataFrame({'infected': np.array(heuristic_res).mean(axis=0),\n",
    "                                                       'h': np.arange(H+1),\n",
    "                                                       'algo': algo.__name__,\n",
    "                                                        'p': p,\n",
    "                                                      'q': q,\n",
    "                                                      'L': int(L*n),\n",
    "                                                      'connectedness': adj_con,\n",
    "                                                      'sim_id': i})\n",
    "                            results = results.append(result)\n",
    "            \n",
    "    results.to_csv('opt_vs_heuristic_tests.csv', index = False)    "
   ]
  },
  {
   "cell_type": "markdown",
   "metadata": {},
   "source": [
    "### Heuristics (Large Samples)\n",
    "Code to generate results for testing heuristics onlarger problem instances."
   ]
  },
  {
   "cell_type": "code",
   "execution_count": 5,
   "metadata": {},
   "outputs": [],
   "source": [
    "graph_connectedness = [0.01, 0.1, 0.5, 1]\n",
    "p_list = np.arange(5)/5\n",
    "q_list = np.arange(5)/5\n",
    "n_list = [5, 10, 100, 500, 1000]\n",
    "L_list = np.arange(5)/5\n",
    "H = 14\n",
    "heuristics = [selectRandom, highRisk, highConnection, highBelief, sampleBelief, highBeliefRisk]\n",
    "num_sim = 1000\n",
    "\n",
    "results = pd.DataFrame()\n",
    "for n in n_list:\n",
    "    print('Running size: ', n)\n",
    "    for adj_con in graph_connectedness:\n",
    "        for i in range(num_sim):\n",
    "            A = generateAdjacenyMatrix(n, adj_con)\n",
    "            for p in p_list:\n",
    "                for q in q_list:\n",
    "                    for L in L_list:\n",
    "                        for algo in heuristics:\n",
    "                            sample_res = sample(selectRandom, \n",
    "                                              np.ones(n).astype(np.bool), \n",
    "                                              H, p, q, int(L*n), A, n)\n",
    "                            result = pd.DataFrame({'infected': sample_res,\n",
    "                                                   'h': np.arange(H+1),\n",
    "                                                   'algo': algo.__name__,\n",
    "                                                    'p': p,\n",
    "                                                  'q': q,\n",
    "                                                  'L': int(L*n),\n",
    "                                                  'connectedness': adj_con,\n",
    "                                                  'sim_id': i})\n",
    "                            #print(result)\n",
    "                            results = results.append(result)\n",
    "            \n",
    "    results.to_csv('heuristic_tests.csv', index = False)    "
   ]
  }
 ],
 "metadata": {
  "kernelspec": {
   "display_name": "Python 3",
   "language": "python",
   "name": "python3"
  },
  "language_info": {
   "codemirror_mode": {
    "name": "ipython",
    "version": 3
   },
   "file_extension": ".py",
   "mimetype": "text/x-python",
   "name": "python",
   "nbconvert_exporter": "python",
   "pygments_lexer": "ipython3",
   "version": "3.8.2"
  }
 },
 "nbformat": 4,
 "nbformat_minor": 4
}
