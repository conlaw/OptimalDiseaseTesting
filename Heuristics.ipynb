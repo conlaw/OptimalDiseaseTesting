{
 "cells": [
  {
   "cell_type": "code",
   "execution_count": 71,
   "metadata": {},
   "outputs": [],
   "source": [
    "import numpy as np\n",
    "import random\n",
    "from copy import copy\n",
    "from matplotlib import pyplot as plt\n",
    "\n",
    "from simulation_helpers import generateAdjacenyMatrix\n",
    "from optimal_policy import computeTransY\n",
    "\n",
    "from heuristics import selectRandom\n",
    "from heuristics import highRisk\n",
    "from heuristics import highConnection\n",
    "from heuristics import highBelief\n",
    "from heuristics import sampleBelief\n",
    "from heuristics import highBeliefRisk\n",
    "from heuristics import sample"
   ]
  },
  {
   "cell_type": "code",
   "execution_count": 72,
   "metadata": {},
   "outputs": [],
   "source": [
    "n = 10\n",
    "L = 2\n",
    "p = 0.2\n",
    "q = 0\n",
    "h = 10"
   ]
  },
  {
   "cell_type": "code",
   "execution_count": 80,
   "metadata": {},
   "outputs": [
    {
     "name": "stdout",
     "output_type": "stream",
     "text": [
      "[2. 3. 5. 4. 3. 3. 3. 3. 3. 3.]\n"
     ]
    }
   ],
   "source": [
    "A = generateAdjacenyMatrix(n, 1)\n",
    "Q = np.ones(n).astype(np.bool)\n",
    "print sample(selectRandom, Q, h, p, q, L, A, n)"
   ]
  },
  {
   "cell_type": "code",
   "execution_count": 74,
   "metadata": {},
   "outputs": [
    {
     "name": "stdout",
     "output_type": "stream",
     "text": [
      "[2. 3. 5. 5. 5. 5. 5. 5. 5. 5.]\n"
     ]
    }
   ],
   "source": [
    "A = generateAdjacenyMatrix(n, 1)\n",
    "Q = np.ones(n).astype(np.bool)\n",
    "print sample(highRisk, Q, h, p, q, L, A, n)"
   ]
  },
  {
   "cell_type": "code",
   "execution_count": 75,
   "metadata": {},
   "outputs": [
    {
     "name": "stdout",
     "output_type": "stream",
     "text": [
      "[3. 5. 7. 7. 7. 7. 7. 7. 7. 7.]\n"
     ]
    }
   ],
   "source": [
    "A = generateAdjacenyMatrix(n, 1)\n",
    "Q = np.ones(n).astype(np.bool)\n",
    "print sample(highConnection, Q, h, p, q, L, A, n)"
   ]
  },
  {
   "cell_type": "code",
   "execution_count": 76,
   "metadata": {},
   "outputs": [
    {
     "name": "stdout",
     "output_type": "stream",
     "text": [
      "[2. 4. 6. 7. 6. 6. 6. 6. 6. 6.]\n"
     ]
    }
   ],
   "source": [
    "A = generateAdjacenyMatrix(n, 1)\n",
    "Q = np.ones(n).astype(np.bool)\n",
    "print sample(highBelief, Q, h, p, q, L, A, n)"
   ]
  },
  {
   "cell_type": "code",
   "execution_count": 77,
   "metadata": {},
   "outputs": [
    {
     "name": "stdout",
     "output_type": "stream",
     "text": [
      "[3. 3. 5. 6. 6. 6. 6. 6. 6. 6.]\n"
     ]
    }
   ],
   "source": [
    "A = generateAdjacenyMatrix(n, 1)\n",
    "Q = np.ones(n).astype(np.bool)\n",
    "print sample(sampleBelief, Q, h, p, q, L, A, n)"
   ]
  },
  {
   "cell_type": "code",
   "execution_count": 78,
   "metadata": {},
   "outputs": [
    {
     "name": "stdout",
     "output_type": "stream",
     "text": [
      "[2. 3. 4. 7. 7. 7. 7. 7. 7. 7.]\n"
     ]
    }
   ],
   "source": [
    "A = generateAdjacenyMatrix(n, 1)\n",
    "Q = np.ones(n).astype(np.bool)\n",
    "print sample(highBeliefRisk, Q, h, p, q, L, A, n)"
   ]
  },
  {
   "cell_type": "code",
   "execution_count": 79,
   "metadata": {},
   "outputs": [],
   "source": [
    "# plt.plot(a, label = 'rank belief')\n",
    "# plt.plot(b, label = 'random select')\n",
    "# plt.plot(c, label = 'effect of the removed')\n",
    "\n",
    "# plt.legend(loc = \"lower right\")"
   ]
  },
  {
   "cell_type": "code",
   "execution_count": null,
   "metadata": {},
   "outputs": [],
   "source": []
  }
 ],
 "metadata": {
  "kernelspec": {
   "display_name": "Python 2",
   "language": "python",
   "name": "python2"
  },
  "language_info": {
   "codemirror_mode": {
    "name": "ipython",
    "version": 2
   },
   "file_extension": ".py",
   "mimetype": "text/x-python",
   "name": "python",
   "nbconvert_exporter": "python",
   "pygments_lexer": "ipython2",
   "version": "2.7.16"
  }
 },
 "nbformat": 4,
 "nbformat_minor": 2
}
