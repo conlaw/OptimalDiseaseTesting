{
 "cells": [
  {
   "cell_type": "code",
   "execution_count": 1,
   "metadata": {},
   "outputs": [],
   "source": [
    "import numpy as np\n",
    "import random\n",
    "from simulation_helpers import generateAdjacenyMatrix\n",
    "from optimal_policy import V"
   ]
  },
  {
   "cell_type": "code",
   "execution_count": 2,
   "metadata": {},
   "outputs": [],
   "source": [
    "n = 100\n",
    "L = 5\n",
    "p = 0.02\n",
    "q = 0\n",
    "h = 10"
   ]
  },
  {
   "cell_type": "code",
   "execution_count": 3,
   "metadata": {},
   "outputs": [],
   "source": [
    "round = 10"
   ]
  },
  {
   "cell_type": "code",
   "execution_count": 4,
   "metadata": {},
   "outputs": [],
   "source": [
    "def selectRandom(Q, L):   \n",
    "    \n",
    "    L = min(L, Q.sum())\n",
    "    \n",
    "    test = np.zeros(len(Q))\n",
    "    \n",
    "    # index of nonzero elements in Q\n",
    "    index = np.transpose(np.nonzero(Q))    \n",
    "    index = index.flatten()\n",
    "   \n",
    "    # randomly pick L nodes that are still in the graph\n",
    "    a = np.random.choice(index, L, replace=False)\n",
    "    \n",
    "    # generate the test vector\n",
    "    for i in range(len(a)):\n",
    "        select = a[i]\n",
    "        test[select] = 1\n",
    "        \n",
    "    \n",
    "    return test"
   ]
  },
  {
   "cell_type": "code",
   "execution_count": 5,
   "metadata": {},
   "outputs": [],
   "source": [
    "def highRisk(y, Q, A, removed, L):\n",
    "    L = min(L, Q.sum())\n",
    "    \n",
    "    test = np.zeros(len(Q))\n",
    "    R = np.zeros(len(Q))\n",
    "    \n",
    "    \n",
    "    R = np.matmul(A, removed)\n",
    "    removedNeg = 1 - removed\n",
    "    R[removedNeg == 0] = removedNeg[removedNeg == 0] \n",
    "\n",
    "    \n",
    "    RDup = np.empty_like (R)\n",
    "    RDup[:] = R\n",
    "    RDup.sort()\n",
    "    \n",
    "    # rank the healthy ones based on the num of removed ones they connected to\n",
    "    for i in range(1,L+1):\n",
    "        index = np.where(R == RDup[-i])[0]\n",
    "        index = np.random.choice(index, 1)\n",
    "        test[index] = 1\n",
    "    return test"
   ]
  },
  {
   "cell_type": "code",
   "execution_count": 6,
   "metadata": {},
   "outputs": [],
   "source": [
    "def removeNodes(y, Q, test, q):\n",
    "    \n",
    "    a = np.empty_like (y)\n",
    "    a[:] = y\n",
    "    \n",
    "    # amounce the infected, announce == 0 if that person decides to announce\n",
    "    announce = np.random.binomial(1,q,len(a))    \n",
    "    announce = np.multiply(a,announce)  \n",
    "    announce = 1 - announce\n",
    "    \n",
    "    # remove the person who has announced from the graph\n",
    "    Q[announce == 0] = announce[announce == 0]\n",
    "    \n",
    "\n",
    "    # test result according to the test we selected\n",
    "    testResult = np.multiply(y,test)\n",
    "    testResult = 1-testResult\n",
    "    \n",
    "    # remove the people that are tested infected \n",
    "    Q[testResult == 0] = testResult[testResult == 0]\n",
    "    \n",
    "    return Q"
   ]
  },
  {
   "cell_type": "code",
   "execution_count": 7,
   "metadata": {},
   "outputs": [],
   "source": [
    "def infection(y, Q, p, A):\n",
    "    R = np.zeros(len(Q))\n",
    "    \n",
    "    R[Q] = np.matmul(A[Q,:][:,Q], y[Q])\n",
    "\n",
    "    infection = np.zeros(len(Q))\n",
    "\n",
    "    for i in range(len(R)):\n",
    "        source = int(R[i])\n",
    "\n",
    "        if source > 0:\n",
    "            v = np.random.binomial(1, p, source)\n",
    "            if v.sum() > 0:\n",
    "                infection[i] = 1\n",
    "    \n",
    "    return np.clip(y + infection, 0, 1)"
   ]
  },
  {
   "cell_type": "code",
   "execution_count": 8,
   "metadata": {},
   "outputs": [],
   "source": [
    "def simulationRandom(Q, h, p, q, L, A, n):\n",
    "    numInf = np.zeros(h)\n",
    "    \n",
    "    y = np.zeros(n)\n",
    "    \n",
    "    # randomly initialize an infected person\n",
    "    start = random.randint(0,n-1) \n",
    "    y[start] = 1\n",
    "    \n",
    "    done = False \n",
    "    \n",
    "    \n",
    "    for n in range(h): \n",
    "            # done if no healthy ppl connected to someone sick or nobody healthy on graph\n",
    "            R = np.zeros(len(Q))    \n",
    "            R[Q] = np.matmul(A[Q,:][:,Q], y[Q])            \n",
    "            done = (max(R) == 0) or (min(y[Q]) == 1)\n",
    "            \n",
    "            # else proceed \n",
    "            if not done:\n",
    "                test = selectRandom(Q,L)\n",
    "                Q = removeNodes(y, Q, test, q)\n",
    "                y = infection(y, Q, p, A)            \n",
    "                Q[start] = 0\n",
    "                \n",
    "                \n",
    "            # count the # of infected on the graph\n",
    "            Q = Q.astype(np.bool)\n",
    "            inf = y[Q]  \n",
    "            numInf[n] = int(inf.sum())\n",
    "\n",
    "        \n",
    "    return numInf"
   ]
  },
  {
   "cell_type": "code",
   "execution_count": 9,
   "metadata": {},
   "outputs": [],
   "source": [
    "def simulationRisky(Q, h, p, q, L, A, n):\n",
    "    \n",
    "    numInf = np.zeros(h)\n",
    "    \n",
    "    y = np.zeros(n)\n",
    "    start = random.randint(0,n-1) \n",
    "    y[start] = 1\n",
    "    removed = y\n",
    "    \n",
    "    for n in range(h):\n",
    "        # done if no healthy ppl connected to someone sick or nobody healthy on graph\n",
    "        R = np.zeros(len(Q))    \n",
    "        R[Q] = np.matmul(A[Q,:][:,Q], y[Q])            \n",
    "        done = (max(R) == 0) or (min(y[Q]) == 1)\n",
    "            \n",
    "        # else proceed \n",
    "        if not done:\n",
    "         \n",
    "            oldQ = Q.astype(int)\n",
    "        \n",
    "            test = highRisk(y, Q, A, removed, L)\n",
    "        \n",
    "            Q = removeNodes(y, Q, test, q)\n",
    "        \n",
    "            newQ = Q.astype(int)\n",
    "\n",
    "            removed = oldQ - newQ if n >= 1 else y\n",
    "\n",
    "        \n",
    "            y = infection(y, Q, p, A)\n",
    "\n",
    "        \n",
    "            if Q[start] == 1:\n",
    "                Q[start] = 0\n",
    "        \n",
    "        # count the # of infected on the graph\n",
    "        Q = Q.astype(np.bool)\n",
    "        inf = y[Q]               \n",
    "        numInf[n] = int(inf.sum())\n",
    "        \n",
    "    return numInf"
   ]
  },
  {
   "cell_type": "code",
   "execution_count": 10,
   "metadata": {},
   "outputs": [],
   "source": [
    "def resultRandom(h, p, q, L, n):\n",
    "    result1 = np.zeros(h)\n",
    "    for i in range(round):\n",
    "        A = generateAdjacenyMatrix(n, 0.8)\n",
    "        Q = np.ones(n).astype(np.bool)    \n",
    "        a = simulationRandom(Q, h, p, q, L, A, n)\n",
    "        result1 += a\n",
    "        \n",
    "\n",
    "    return result1 / float(round)"
   ]
  },
  {
   "cell_type": "code",
   "execution_count": 11,
   "metadata": {},
   "outputs": [
    {
     "name": "stdout",
     "output_type": "stream",
     "text": [
      "[ 1.   1.8  2.5  3.4  4.6  6.2  9.  11.  15.6 19.1]\n"
     ]
    }
   ],
   "source": [
    "print resultRandom(h, p, q, L, n)"
   ]
  },
  {
   "cell_type": "code",
   "execution_count": 12,
   "metadata": {},
   "outputs": [],
   "source": [
    "def resultRisky(j, p, q, L, n):\n",
    "    result2 = np.zeros(h)\n",
    "    for i in range(round):\n",
    "        A = generateAdjacenyMatrix(n, 0.8)\n",
    "        Q = np.ones(n).astype(np.bool)\n",
    "        b = simulationRisky(Q, h, p, q, L, A, n)\n",
    "        result2 += b\n",
    "        \n",
    "\n",
    "    return result2 / float(round)"
   ]
  },
  {
   "cell_type": "code",
   "execution_count": 13,
   "metadata": {},
   "outputs": [
    {
     "name": "stdout",
     "output_type": "stream",
     "text": [
      "[ 0.6  0.7  1.2  1.6  2.4  4.   6.6 10.2 13.9 17.4]\n"
     ]
    }
   ],
   "source": [
    "print resultRisky(h, p, q, L, n)"
   ]
  }
 ],
 "metadata": {
  "kernelspec": {
   "display_name": "Python 2",
   "language": "python",
   "name": "python2"
  },
  "language_info": {
   "codemirror_mode": {
    "name": "ipython",
    "version": 2
   },
   "file_extension": ".py",
   "mimetype": "text/x-python",
   "name": "python",
   "nbconvert_exporter": "python",
   "pygments_lexer": "ipython2",
   "version": "2.7.16"
  }
 },
 "nbformat": 4,
 "nbformat_minor": 2
}
