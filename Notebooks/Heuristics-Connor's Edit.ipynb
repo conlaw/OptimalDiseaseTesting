{
 "cells": [
  {
   "cell_type": "code",
   "execution_count": 1,
   "metadata": {},
   "outputs": [],
   "source": [
    "import numpy as np\n",
    "import random\n",
    "from copy import copy\n",
    "\n",
    "from simulation_helpers import generateAdjacenyMatrix\n",
    "from optimal_policy import V"
   ]
  },
  {
   "cell_type": "code",
   "execution_count": 68,
   "metadata": {},
   "outputs": [],
   "source": [
    "n = 100\n",
    "L = 5\n",
    "p = 0.02\n",
    "q = 0\n",
    "h = 10\n",
    "np.random.choice?"
   ]
  },
  {
   "cell_type": "code",
   "execution_count": null,
   "metadata": {},
   "outputs": [],
   "source": [
    "def selectRandom(y, Q, A, L):\n",
    "    '''\n",
    "    Heuristic that tests uninfected people randomly\n",
    "    '''\n",
    "    L = min(L, Q.sum())\n",
    "    \n",
    "    tests = np.zeros(len(Q))\n",
    "    tests[np.random.choice(np.nonzero(Q)[0], L, replace = False)] = 1\n",
    "    \n",
    "    return tests"
   ]
  },
  {
   "cell_type": "code",
   "execution_count": null,
   "metadata": {},
   "outputs": [],
   "source": [
    "def highRisk(y, Q, A, L):\n",
    "    '''\n",
    "    Heuristic that tests those closest to those removed from the graph\n",
    "    '''\n",
    "    L = min(L, Q.sum())\n",
    "    \n",
    "    #Computee number of 'removed' people everyone is connected to\n",
    "    R = np.matmul(A, 1-Q)\n",
    "    R[1-Q] = 0 #If person is removed set 'removed' connections to 0\n",
    "    \n",
    "    tests = np.zeros(len(Q))\n",
    "    tests[np.argsort(R)[::-1][:L]] = 1 #Test the top L most connected to removed nodes\n",
    "\n",
    "    return tests"
   ]
  },
  {
   "cell_type": "code",
   "execution_count": null,
   "metadata": {},
   "outputs": [],
   "source": [
    "def highConnection(y, Q, A, L):\n",
    "    '''\n",
    "    Heuristic that tests those that are most connected on the graph\n",
    "    '''\n",
    "    L = min(L, Q.sum())\n",
    "    \n",
    "    #Compute number of people everyone is connected to\n",
    "    R = np.matmul(A, np.ones(len(Q)))\n",
    "    R[1-Q] = 0 #If person is removed set 'number of connections to 0\n",
    "    \n",
    "    tests = np.zeros(len(Q))\n",
    "    tests[np.argsort(R)[::-1][:L]] = 1 #Test the top L most connected to removed nodes\n",
    "\n",
    "    return tests"
   ]
  },
  {
   "cell_type": "code",
   "execution_count": null,
   "metadata": {},
   "outputs": [],
   "source": [
    "def highBeliefRisk(y, Q, A, L, consider_removed = False):\n",
    "    '''\n",
    "    Heuristic that tests those that are most connected to the people most likely to be sick\n",
    "    '''\n",
    "    L = min(L, Q.sum())\n",
    "    \n",
    "    #Adjust Y to deal with removed nodes\n",
    "    y_sample = y.copy()\n",
    "    y_sample[1-Q] = 1 if consider_removed else 0 #Takes advantage of fact removed nodes = 1\n",
    "\n",
    "    #Compute number of people everyone is connected to\n",
    "    R = np.matmul(A+np.eye(A.shape[0]), y_sample) #Add Identity matrix so that we include belief on person themself\n",
    "    R[1-Q] = 0 #If person is removed set risk to 0\n",
    "    \n",
    "    tests = np.zeros(len(Q))\n",
    "    tests[np.argsort(R)[::-1][:L]] = 1 #Test the top L most connected to removed nodes\n",
    "\n",
    "    return tests"
   ]
  },
  {
   "cell_type": "code",
   "execution_count": null,
   "metadata": {},
   "outputs": [],
   "source": [
    "def highBelief(y, Q, A, L):\n",
    "    '''\n",
    "    Heuristic that tests the L individuals with highest beliefs\n",
    "    '''\n",
    "    L = min(L, Q.sum())\n",
    "    \n",
    "    #Adjust y to remove nodes outside of graph\n",
    "    y_sample = y.copy()\n",
    "    y_sample[1-Q] = 0\n",
    "    \n",
    "    tests = np.zeros(len(Q))\n",
    "    tests[np.argsort(y_sample)[::-1][:L]] = 1 #Test the top L nodes with highest beliefs\n",
    "    return tests"
   ]
  },
  {
   "cell_type": "code",
   "execution_count": null,
   "metadata": {},
   "outputs": [],
   "source": [
    "def sampleBelief(y,Q,A,L, softmax = True):\n",
    "    '''\n",
    "    Heuristic that samples who to test by building a (softmax) distirbution over nodes\n",
    "    '''\n",
    "    L = min(L, Q.sum())\n",
    "    \n",
    "    #Adjust y to remove nodes outside of graph\n",
    "    y_sample = y.copy()\n",
    "    y_sample[1-Q] = 0\n",
    "    \n",
    "    #Build a distribution over nodes based on belief\n",
    "    dist = np.exp(y_sample)/np.exp(y_sample).sum() if softmax else y/y.sum()\n",
    "    \n",
    "    tests = np.zeros(len(Q))\n",
    "    tests[np.random.choice(np.arange(len(Q)), L, p = dist, replace = False)] = 1 #Test L nodes sampled from distribution\n",
    "    return tests"
   ]
  },
  {
   "cell_type": "code",
   "execution_count": 6,
   "metadata": {},
   "outputs": [],
   "source": [
    "def removeNodes(y, Q, test, q):\n",
    "    \n",
    "    a = np.empty_like (y)\n",
    "    a[:] = y\n",
    "    \n",
    "    # amounce the infected, announce == 0 if that person decides to announce\n",
    "    announce = np.random.binomial(1,q,len(a))    \n",
    "    announce = np.multiply(a,announce)  \n",
    "    announce = 1 - announce\n",
    "    \n",
    "    # remove the person who has announced from the graph\n",
    "    Q[announce == 0] = announce[announce == 0]\n",
    "    \n",
    "\n",
    "    # test result according to the test we selected\n",
    "    testResult = np.multiply(y,test)\n",
    "    testResult = 1-testResult\n",
    "    \n",
    "    # remove the people that are tested infected \n",
    "    Q[testResult == 0] = testResult[testResult == 0]\n",
    "    \n",
    "    return Q"
   ]
  },
  {
   "cell_type": "code",
   "execution_count": null,
   "metadata": {},
   "outputs": [],
   "source": [
    "def runSimulation(A, p, q, L, H, policy):\n",
    "    n = A.shape[0]\n",
    "    y = np.ones(n)*1/(n) #uniform prior\n",
    "    Q = np.ones(n) #everyone starts in graph\n",
    "    \n",
    "    #randomly choose first infected individual\n",
    "    infected = np.zeros(n)\n",
    "    infected[np.random.choice(np.arange(n),1)] = 1\n",
    "    \n",
    "    for h in range(H):\n",
    "        at_risk = np.matmul(A[Q,:][:,Q], infected[Q]) > 0\n",
    "        infected[Q][at_risk] = np.clip(infected[Q][at_risk] + np.random.binomial(1, p, size=at_risk.sum()),0,1)\n",
    "        tests = policy(y,Q,A,L)\n",
    "        \n",
    "        Q[infected] = \n",
    "        "
   ]
  },
  {
   "cell_type": "code",
   "execution_count": 133,
   "metadata": {},
   "outputs": [
    {
     "ename": "IndexError",
     "evalue": "too many indices for array",
     "output_type": "error",
     "traceback": [
      "\u001b[0;31m---------------------------------------------------------------------------\u001b[0m",
      "\u001b[0;31mIndexError\u001b[0m                                Traceback (most recent call last)",
      "\u001b[0;32m<ipython-input-133-5cb039d4d388>\u001b[0m in \u001b[0;36m<module>\u001b[0;34m\u001b[0m\n\u001b[1;32m      5\u001b[0m \u001b[0mQ\u001b[0m \u001b[0;34m=\u001b[0m \u001b[0mnp\u001b[0m\u001b[0;34m.\u001b[0m\u001b[0mones\u001b[0m\u001b[0;34m(\u001b[0m\u001b[0mn\u001b[0m\u001b[0;34m)\u001b[0m\u001b[0;34m.\u001b[0m\u001b[0mastype\u001b[0m\u001b[0;34m(\u001b[0m\u001b[0mnp\u001b[0m\u001b[0;34m.\u001b[0m\u001b[0mbool\u001b[0m\u001b[0;34m)\u001b[0m\u001b[0;34m\u001b[0m\u001b[0;34m\u001b[0m\u001b[0m\n\u001b[1;32m      6\u001b[0m \u001b[0mat_risk\u001b[0m \u001b[0;34m=\u001b[0m \u001b[0mnp\u001b[0m\u001b[0;34m.\u001b[0m\u001b[0mmatmul\u001b[0m\u001b[0;34m(\u001b[0m\u001b[0mA\u001b[0m\u001b[0;34m[\u001b[0m\u001b[0mQ\u001b[0m\u001b[0;34m,\u001b[0m\u001b[0;34m:\u001b[0m\u001b[0;34m]\u001b[0m\u001b[0;34m[\u001b[0m\u001b[0;34m:\u001b[0m\u001b[0;34m,\u001b[0m\u001b[0mQ\u001b[0m\u001b[0;34m]\u001b[0m\u001b[0;34m,\u001b[0m \u001b[0minfected\u001b[0m\u001b[0;34m[\u001b[0m\u001b[0mQ\u001b[0m\u001b[0;34m]\u001b[0m\u001b[0;34m)\u001b[0m \u001b[0;34m>\u001b[0m \u001b[0;36m0\u001b[0m\u001b[0;34m\u001b[0m\u001b[0;34m\u001b[0m\u001b[0m\n\u001b[0;32m----> 7\u001b[0;31m \u001b[0mprint\u001b[0m\u001b[0;34m(\u001b[0m\u001b[0minfected\u001b[0m\u001b[0;34m[\u001b[0m\u001b[0mQ\u001b[0m\u001b[0;34m,\u001b[0m\u001b[0mat_risk\u001b[0m\u001b[0;34m]\u001b[0m\u001b[0;34m)\u001b[0m\u001b[0;34m\u001b[0m\u001b[0;34m\u001b[0m\u001b[0m\n\u001b[0m\u001b[1;32m      8\u001b[0m \u001b[0;31m#infected[Q[at_risk]] = np.clip(infected[Q][at_risk] + np.random.binomial(1, 1, size=at_risk.sum()),0,1)\u001b[0m\u001b[0;34m\u001b[0m\u001b[0;34m\u001b[0m\u001b[0;34m\u001b[0m\u001b[0m\n\u001b[1;32m      9\u001b[0m \u001b[0;31m#infected\u001b[0m\u001b[0;34m\u001b[0m\u001b[0;34m\u001b[0m\u001b[0;34m\u001b[0m\u001b[0m\n",
      "\u001b[0;31mIndexError\u001b[0m: too many indices for array"
     ]
    }
   ],
   "source": [
    "n=10\n",
    "infected = np.zeros(n)\n",
    "infected[np.random.choice(np.arange(n),1)] = 1\n",
    "A = generateAdjacenyMatrix(n,0) + np.eye(n)\n",
    "Q = np.ones(n).astype(np.bool)\n",
    "at_risk = np.matmul(A[Q,:][:,Q], infected[Q]) > 0\n",
    "print(infected[Q,])\n",
    "#infected[Q[at_risk]] = np.clip(infected[Q][at_risk] + np.random.binomial(1, 1, size=at_risk.sum()),0,1)\n",
    "#infected\n",
    "#np.clip(infected[Q][at_risk] + np.random.binomial(1, 1, size=at_risk.sum()),0,1)\n",
    "#np.clip(np.zeros(10) + np.random.binomial(1, 0.2, 10),0,1)"
   ]
  },
  {
   "cell_type": "code",
   "execution_count": 7,
   "metadata": {},
   "outputs": [],
   "source": [
    "def infection(y, Q, p, A):\n",
    "    R = np.zeros(len(Q))\n",
    "    \n",
    "    R[Q] = np.matmul(A[Q,:][:,Q], y[Q])\n",
    "\n",
    "    infection = np.zeros(len(Q))\n",
    "\n",
    "    for i in range(len(R)):\n",
    "        source = int(R[i])\n",
    "\n",
    "        if source > 0:\n",
    "            v = np.random.binomial(1, p, source)\n",
    "            if v.sum() > 0:\n",
    "                infection[i] = 1\n",
    "    \n",
    "    return np.clip(y + infection, 0, 1)"
   ]
  },
  {
   "cell_type": "code",
   "execution_count": 8,
   "metadata": {},
   "outputs": [],
   "source": [
    "def simulationRandom(Q, h, p, q, L, A, n):\n",
    "    numInf = np.zeros(h)\n",
    "    \n",
    "    y = np.zeros(n)\n",
    "    \n",
    "    # randomly initialize an infected person\n",
    "    start = random.randint(0,n-1) \n",
    "    y[start] = 1\n",
    "    \n",
    "    done = False \n",
    "    \n",
    "    \n",
    "    for n in range(h): \n",
    "            # done if no healthy ppl connected to someone sick or nobody healthy on graph\n",
    "            R = np.zeros(len(Q))    \n",
    "            R[Q] = np.matmul(A[Q,:][:,Q], y[Q])            \n",
    "            done = (max(R) == 0) or (min(y[Q]) == 1)\n",
    "            \n",
    "            # else proceed \n",
    "            if not done:\n",
    "                test = selectRandom(Q,L)\n",
    "                Q = removeNodes(y, Q, test, q)\n",
    "                y = infection(y, Q, p, A)            \n",
    "                Q[start] = 0\n",
    "                \n",
    "                \n",
    "            # count the # of infected on the graph\n",
    "            Q = Q.astype(np.bool)\n",
    "            inf = y[Q]  \n",
    "            numInf[n] = int(inf.sum())\n",
    "\n",
    "        \n",
    "    return numInf"
   ]
  },
  {
   "cell_type": "code",
   "execution_count": 9,
   "metadata": {},
   "outputs": [],
   "source": [
    "def simulationRisky(Q, h, p, q, L, A, n):\n",
    "    \n",
    "    numInf = np.zeros(h)\n",
    "    \n",
    "    y = np.zeros(n)\n",
    "    start = random.randint(0,n-1) \n",
    "    y[start] = 1\n",
    "    removed = y\n",
    "    \n",
    "    for n in range(h):\n",
    "        # done if no healthy ppl connected to someone sick or nobody healthy on graph\n",
    "        R = np.zeros(len(Q))    \n",
    "        R[Q] = np.matmul(A[Q,:][:,Q], y[Q])            \n",
    "        done = (max(R) == 0) or (min(y[Q]) == 1)\n",
    "            \n",
    "        # else proceed \n",
    "        if not done:\n",
    "         \n",
    "            oldQ = Q.astype(int)\n",
    "        \n",
    "            test = highRisk(y, Q, A, removed, L)\n",
    "        \n",
    "            Q = removeNodes(y, Q, test, q)\n",
    "        \n",
    "            newQ = Q.astype(int)\n",
    "\n",
    "            removed = oldQ - newQ if n >= 1 else y\n",
    "\n",
    "        \n",
    "            y = infection(y, Q, p, A)\n",
    "\n",
    "        \n",
    "            if Q[start] == 1:\n",
    "                Q[start] = 0\n",
    "        \n",
    "        # count the # of infected on the graph\n",
    "        Q = Q.astype(np.bool)\n",
    "        inf = y[Q]               \n",
    "        numInf[n] = int(inf.sum())\n",
    "        \n",
    "    return numInf"
   ]
  },
  {
   "cell_type": "code",
   "execution_count": 10,
   "metadata": {},
   "outputs": [],
   "source": [
    "def resultRandom(h, p, q, L, n):\n",
    "    result1 = np.zeros(h)\n",
    "    for i in range(round):\n",
    "        A = generateAdjacenyMatrix(n, 0.8)\n",
    "        Q = np.ones(n).astype(np.bool)    \n",
    "        a = simulationRandom(Q, h, p, q, L, A, n)\n",
    "        result1 += a\n",
    "        \n",
    "\n",
    "    return result1 / float(round)"
   ]
  },
  {
   "cell_type": "code",
   "execution_count": 11,
   "metadata": {},
   "outputs": [
    {
     "name": "stdout",
     "output_type": "stream",
     "text": [
      "[ 1.   1.8  2.5  3.4  4.6  6.2  9.  11.  15.6 19.1]\n"
     ]
    }
   ],
   "source": [
    "print resultRandom(h, p, q, L, n)"
   ]
  },
  {
   "cell_type": "code",
   "execution_count": 12,
   "metadata": {},
   "outputs": [],
   "source": [
    "def resultRisky(j, p, q, L, n):\n",
    "    result2 = np.zeros(h)\n",
    "    for i in range(round):\n",
    "        A = generateAdjacenyMatrix(n, 0.8)\n",
    "        Q = np.ones(n).astype(np.bool)\n",
    "        b = simulationRisky(Q, h, p, q, L, A, n)\n",
    "        result2 += b\n",
    "        \n",
    "\n",
    "    return result2 / float(round)"
   ]
  },
  {
   "cell_type": "code",
   "execution_count": 13,
   "metadata": {},
   "outputs": [
    {
     "name": "stdout",
     "output_type": "stream",
     "text": [
      "[ 0.6  0.7  1.2  1.6  2.4  4.   6.6 10.2 13.9 17.4]\n"
     ]
    }
   ],
   "source": [
    "print resultRisky(h, p, q, L, n)"
   ]
  }
 ],
 "metadata": {
  "kernelspec": {
   "display_name": "Python 3",
   "language": "python",
   "name": "python3"
  },
  "language_info": {
   "codemirror_mode": {
    "name": "ipython",
    "version": 3
   },
   "file_extension": ".py",
   "mimetype": "text/x-python",
   "name": "python",
   "nbconvert_exporter": "python",
   "pygments_lexer": "ipython3",
   "version": "3.8.2"
  }
 },
 "nbformat": 4,
 "nbformat_minor": 2
}
