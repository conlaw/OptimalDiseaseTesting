{
 "cells": [
  {
   "cell_type": "code",
   "execution_count": 114,
   "metadata": {},
   "outputs": [],
   "source": [
    "import numpy as np\n",
    "import random\n",
    "from copy import copy\n",
    "from matplotlib import pyplot as plt\n",
    "\n",
    "from simulation_helpers import generateAdjacenyMatrix\n",
    "from optimal_policy import computeTransY\n",
    "\n",
    "from heuristics import selectRandom\n",
    "from heuristics import highRisk\n",
    "from heuristics import highConnection\n",
    "from heuristics import highBelief\n",
    "from heuristics import sampleBelief\n",
    "from heuristics import highBeliefRisk\n",
    "from heuristics import sample\n",
    "import pandas as pd"
   ]
  },
  {
   "cell_type": "code",
   "execution_count": 100,
   "metadata": {},
   "outputs": [],
   "source": [
    "n = 1000\n",
    "L = 100\n",
    "p = 0.1\n",
    "q = 0\n",
    "h = 10"
   ]
  },
  {
   "cell_type": "code",
   "execution_count": 121,
   "metadata": {},
   "outputs": [
    {
     "data": {
      "text/html": [
       "<div>\n",
       "<style scoped>\n",
       "    .dataframe tbody tr th:only-of-type {\n",
       "        vertical-align: middle;\n",
       "    }\n",
       "\n",
       "    .dataframe tbody tr th {\n",
       "        vertical-align: top;\n",
       "    }\n",
       "\n",
       "    .dataframe thead th {\n",
       "        text-align: right;\n",
       "    }\n",
       "</style>\n",
       "<table border=\"1\" class=\"dataframe\">\n",
       "  <thead>\n",
       "    <tr style=\"text-align: right;\">\n",
       "      <th></th>\n",
       "      <th>mean</th>\n",
       "      <th>h</th>\n",
       "      <th>heuristic</th>\n",
       "    </tr>\n",
       "  </thead>\n",
       "  <tbody>\n",
       "    <tr>\n",
       "      <th>0</th>\n",
       "      <td>4.5</td>\n",
       "      <td>0</td>\n",
       "      <td>test</td>\n",
       "    </tr>\n",
       "    <tr>\n",
       "      <th>1</th>\n",
       "      <td>5.5</td>\n",
       "      <td>1</td>\n",
       "      <td>test</td>\n",
       "    </tr>\n",
       "    <tr>\n",
       "      <th>2</th>\n",
       "      <td>0.0</td>\n",
       "      <td>2</td>\n",
       "      <td>test</td>\n",
       "    </tr>\n",
       "    <tr>\n",
       "      <th>3</th>\n",
       "      <td>3.0</td>\n",
       "      <td>3</td>\n",
       "      <td>test</td>\n",
       "    </tr>\n",
       "    <tr>\n",
       "      <th>4</th>\n",
       "      <td>4.0</td>\n",
       "      <td>4</td>\n",
       "      <td>test</td>\n",
       "    </tr>\n",
       "    <tr>\n",
       "      <th>0</th>\n",
       "      <td>4.5</td>\n",
       "      <td>0</td>\n",
       "      <td>test</td>\n",
       "    </tr>\n",
       "    <tr>\n",
       "      <th>1</th>\n",
       "      <td>5.5</td>\n",
       "      <td>1</td>\n",
       "      <td>test</td>\n",
       "    </tr>\n",
       "    <tr>\n",
       "      <th>2</th>\n",
       "      <td>0.0</td>\n",
       "      <td>2</td>\n",
       "      <td>test</td>\n",
       "    </tr>\n",
       "    <tr>\n",
       "      <th>3</th>\n",
       "      <td>3.0</td>\n",
       "      <td>3</td>\n",
       "      <td>test</td>\n",
       "    </tr>\n",
       "    <tr>\n",
       "      <th>4</th>\n",
       "      <td>4.0</td>\n",
       "      <td>4</td>\n",
       "      <td>test</td>\n",
       "    </tr>\n",
       "  </tbody>\n",
       "</table>\n",
       "</div>"
      ],
      "text/plain": [
       "   mean  h heuristic\n",
       "0   4.5  0      test\n",
       "1   5.5  1      test\n",
       "2   0.0  2      test\n",
       "3   3.0  3      test\n",
       "4   4.0  4      test\n",
       "0   4.5  0      test\n",
       "1   5.5  1      test\n",
       "2   0.0  2      test\n",
       "3   3.0  3      test\n",
       "4   4.0  4      test"
      ]
     },
     "execution_count": 121,
     "metadata": {},
     "output_type": "execute_result"
    }
   ],
   "source": [
    "results = pd.DataFrame()\n",
    "arrs = []\n",
    "for i in range(10):\n",
    "    arrs.append([i, i+1,0,3,4])\n",
    "test = pd.DataFrame({'mean': np.array(arrs).mean(axis=0),\n",
    "              'h' : np.arange(5),\n",
    "              'heuristic': 'test'}, columns = ['mean', 'h', 'heuristic'])\n",
    "\n",
    "results.append(test).append(test)"
   ]
  },
  {
   "cell_type": "code",
   "execution_count": 104,
   "metadata": {},
   "outputs": [
    {
     "name": "stdout",
     "output_type": "stream",
     "text": [
      "Random:  [  1.   3.   6.  10.  17.  29.  48.  83. 136. 222. 330.]\n",
      "High Risk:  [  1.   3.   6.  11.  22.  40.  68. 118. 194. 286. 412.]\n",
      "High Connection:  [ 1.  2.  3.  4.  4.  6. 11. 19. 28. 43. 65.]\n",
      "High Belief:  [ 1.  3.  4.  5.  8. 12. 13. 14. 14. 14. 14.]\n",
      "Sample Belief:  [  1.   2.   5.   8.  14.  24.  37.  61. 101. 158. 231.]\n",
      "High Belief Risk:  [1. 3. 3. 3. 3. 3. 3. 3. 3. 3. 3.]\n"
     ]
    }
   ],
   "source": [
    "A = generateAdjacenyMatrix(n, 10/n)\n",
    "print('Random: ', sample(selectRandom, np.ones(n).astype(np.bool), h, p, q, L, A, n))\n",
    "print('High Risk: ', sample(highRisk, np.ones(n).astype(np.bool), h, p, q, L, A, n))\n",
    "print('High Connection: ', sample(highConnection, np.ones(n).astype(np.bool), h, p, q, L, A, n))\n",
    "print('High Belief: ', sample(highBelief, np.ones(n).astype(np.bool), h, p, q, L, A, n))\n",
    "print('Sample Belief: ', sample(sampleBelief, np.ones(n).astype(np.bool), h, p, q, L, A, n))\n",
    "print('High Belief Risk: ', sample(highBeliefRisk, np.ones(n).astype(np.bool), h, p, q, L, A, n))"
   ]
  },
  {
   "cell_type": "code",
   "execution_count": null,
   "metadata": {},
   "outputs": [],
   "source": [
    "A = generateAdjacenyMatrix(n, 1)\n",
    "Q = np.ones(n).astype(np.bool)\n",
    "print sample(highConnection, Q, h, p, q, L, A, n)"
   ]
  },
  {
   "cell_type": "code",
   "execution_count": null,
   "metadata": {},
   "outputs": [],
   "source": [
    "A = generateAdjacenyMatrix(n, 1)\n",
    "Q = np.ones(n).astype(np.bool)\n",
    "print sample(highBelief, Q, h, p, q, L, A, n)"
   ]
  },
  {
   "cell_type": "code",
   "execution_count": null,
   "metadata": {},
   "outputs": [],
   "source": [
    "A = generateAdjacenyMatrix(n, 1)\n",
    "Q = np.ones(n).astype(np.bool)\n",
    "print sample(sampleBelief, Q, h, p, q, L, A, n)"
   ]
  },
  {
   "cell_type": "code",
   "execution_count": null,
   "metadata": {},
   "outputs": [],
   "source": [
    "A = generateAdjacenyMatrix(n, 1)\n",
    "Q = np.ones(n).astype(np.bool)\n",
    "print sample(highBeliefRisk, Q, h, p, q, L, A, n)"
   ]
  },
  {
   "cell_type": "code",
   "execution_count": null,
   "metadata": {},
   "outputs": [],
   "source": [
    "# plt.plot(a, label = 'rank belief')\n",
    "# plt.plot(b, label = 'random select')\n",
    "# plt.plot(c, label = 'effect of the removed')\n",
    "\n",
    "# plt.legend(loc = \"lower right\")"
   ]
  },
  {
   "cell_type": "code",
   "execution_count": null,
   "metadata": {},
   "outputs": [],
   "source": []
  }
 ],
 "metadata": {
  "kernelspec": {
   "display_name": "Python 3",
   "language": "python",
   "name": "python3"
  },
  "language_info": {
   "codemirror_mode": {
    "name": "ipython",
    "version": 3
   },
   "file_extension": ".py",
   "mimetype": "text/x-python",
   "name": "python",
   "nbconvert_exporter": "python",
   "pygments_lexer": "ipython3",
   "version": "3.7.6"
  }
 },
 "nbformat": 4,
 "nbformat_minor": 2
}
