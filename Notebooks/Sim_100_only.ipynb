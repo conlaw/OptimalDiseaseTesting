{
 "cells": [
  {
   "cell_type": "code",
   "execution_count": 1,
   "metadata": {},
   "outputs": [],
   "source": [
    "from simulation_helpers import *\n",
    "from heuristics import *\n",
    "from optimal_policy import V\n",
    "import pandas as pd\n",
    "\n",
    "import time"
   ]
  },
  {
   "cell_type": "code",
   "execution_count": 6,
   "metadata": {},
   "outputs": [
    {
     "name": "stdout",
     "output_type": "stream",
     "text": [
      "Running size:  100\n",
      "total time taken this loop:  1157.204694032669\n"
     ]
    }
   ],
   "source": [
    "graph_connectedness = [0.01, 0.3, 0.7, 1]\n",
    "p_list = [0.01,0.3,0.7]\n",
    "q_list = [0,0.3,0.7]\n",
    "n_list = [100]\n",
    "L_list = [0,0.3,0.7]\n",
    "H = 4\n",
    "heuristics = [selectRandom, highRisk, highConnection, highBelief, sampleBelief, highBeliefRisk]\n",
    "num_sim = 100\n",
    "#num_sim_A = 3\n",
    "\n",
    "results = pd.DataFrame()\n",
    "for n in n_list:\n",
    "    start2 = time.time()\n",
    "    print('Running size: ', n)\n",
    "    for adj_con in graph_connectedness:\n",
    "        for i in range(num_sim):\n",
    "            A = generateAdjacenyMatrix(n, adj_con)\n",
    "            for p in p_list:\n",
    "                for q in q_list:\n",
    "                    for L in L_list:\n",
    "                        for algo in heuristics:\n",
    "                            #for j in range(num_sim)\n",
    "                                sample_res = sample(algo, \n",
    "                                                  np.ones(n).astype(np.bool), \n",
    "                                                  H, p, q, int(L*n), A, n)\n",
    "                                result = pd.DataFrame({'population_n':n,\n",
    "                                                        'infected': sample_res,\n",
    "                                                       'h': np.arange(H+1),\n",
    "                                                       'algo': algo.__name__,\n",
    "                                                        'p': p,\n",
    "                                                      'q': q,\n",
    "                                                      'L': int(L*n),\n",
    "                                                      'connectedness': adj_con,\n",
    "                                                      'sim_id': i})\n",
    "                                #print(result)\n",
    "                                results = results.append(result)\n",
    "\n",
    "    results.to_csv('heuristic_tests_random_graph_v3.csv', index = False)    \n",
    "    print(\"total time taken this loop: \", time.time() - start2)"
   ]
  },
  {
   "cell_type": "code",
   "execution_count": null,
   "metadata": {},
   "outputs": [],
   "source": []
  }
 ],
 "metadata": {
  "kernelspec": {
   "display_name": "Python 3",
   "language": "python",
   "name": "python3"
  },
  "language_info": {
   "codemirror_mode": {
    "name": "ipython",
    "version": 3
   },
   "file_extension": ".py",
   "mimetype": "text/x-python",
   "name": "python",
   "nbconvert_exporter": "python",
   "pygments_lexer": "ipython3",
   "version": "3.7.6"
  }
 },
 "nbformat": 4,
 "nbformat_minor": 2
}
