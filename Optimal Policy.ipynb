{
 "cells": [
  {
   "cell_type": "code",
   "execution_count": 1,
   "metadata": {},
   "outputs": [],
   "source": [
    "import numpy as np\n",
    "from simulation_helpers import generateAdjacenyMatrix\n",
    "from optimal_policy2 import V"
   ]
  },
  {
   "cell_type": "code",
   "execution_count": 19,
   "metadata": {},
   "outputs": [],
   "source": [
    "#Set-up Problem Parameters\n",
    "n = 5\n",
    "M = 20\n",
    "L = 3\n",
    "p = 0.2\n",
    "q = 0\n",
    "h = 10\n",
    "A = generateAdjacenyMatrix(n, 1)\n",
    "Q = np.ones(n).astype(np.bool) #Every starts included in graph\n",
    "\n",
    "#Prior Belief\n",
    "y = np.ones(n)/n * M"
   ]
  },
  {
   "cell_type": "code",
   "execution_count": 20,
   "metadata": {},
   "outputs": [
    {
     "data": {
      "text/plain": [
       "2.818365484145266"
      ]
     },
     "execution_count": 20,
     "metadata": {},
     "output_type": "execute_result"
    }
   ],
   "source": [
    "V(Q, y, h, False, p, q, L, A, {}, M=M)"
   ]
  }
 ],
 "metadata": {
  "kernelspec": {
   "display_name": "Python 3",
   "language": "python",
   "name": "python3"
  },
  "language_info": {
   "codemirror_mode": {
    "name": "ipython",
    "version": 3
   },
   "file_extension": ".py",
   "mimetype": "text/x-python",
   "name": "python",
   "nbconvert_exporter": "python",
   "pygments_lexer": "ipython3",
   "version": "3.7.6"
  }
 },
 "nbformat": 4,
 "nbformat_minor": 4
}
