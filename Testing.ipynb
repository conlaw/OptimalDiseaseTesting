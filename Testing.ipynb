{
 "cells": [
  {
   "cell_type": "code",
   "execution_count": 1,
   "metadata": {},
   "outputs": [],
   "source": [
    "from simulation_helpers import *\n",
    "from heuristics import *\n",
    "from optimal_policy import V\n",
    "import pandas as pd\n",
    "\n",
    "import time"
   ]
  },
  {
   "cell_type": "markdown",
   "metadata": {},
   "source": [
    "### Optimal Policy vs Heuristic Tests\n",
    "Code to compare the heuristics to the optimal policy on a few different problem instances"
   ]
  },
  {
   "cell_type": "code",
   "execution_count": null,
   "metadata": {
    "scrolled": true
   },
   "outputs": [
    {
     "name": "stdout",
     "output_type": "stream",
     "text": [
      "Running size:  2\n",
      "total time taken this loop:  13.82506275177002\n",
      "Running size:  3\n",
      "total time taken this loop:  49.95334720611572\n",
      "Running size:  5\n"
     ]
    }
   ],
   "source": [
    "graph_connectedness = [0.01, 0.1, 0.5, 1]\n",
    "p_list = [0,0.3,0.7,1]\n",
    "q_list = [0,0.3,0.7,1]\n",
    "n_list = [2,3,5]\n",
    "H = 9\n",
    "M = 20\n",
    "heuristics = [selectRandom, highRisk, highConnection, highBelief, sampleBelief, highBeliefRisk]\n",
    "num_sim_heur = 5\n",
    "num_sim_A = 3\n",
    "\n",
    "\n",
    "results = pd.DataFrame()\n",
    "for n in n_list:\n",
    "    start1 = time.time()\n",
    "    print('Running size: ', n)\n",
    "    for adj_con in graph_connectedness:\n",
    "        for i in range(num_sim_A):\n",
    "            A = generateAdjacenyMatrix(n, adj_con)\n",
    "            for p in p_list:\n",
    "                for q in q_list:\n",
    "                    for L in np.arange(n):\n",
    "                        #Compute optimal Policy\n",
    "                        #print('Running Optimal')\n",
    "                        V_saved = {}\n",
    "                        A_saved = {}\n",
    "                        res_opt = []\n",
    "                        for h in range(H+1):\n",
    "                            res_opt.append(V(np.ones(n), np.ones(n)/n * M, h, False, p, q, L, A, V_saved, A_saved, M=M))\n",
    "                        \n",
    "                        result = pd.DataFrame({'population_n':n,\n",
    "                                                'infected': res_opt,\n",
    "                                                   'h': np.arange(H+1),\n",
    "                                                   'algo': 'optimal',\n",
    "                                                    'p': p,\n",
    "                                                  'q': q,\n",
    "                                                  'L': L,\n",
    "                                                  'connectedness': adj_con,\n",
    "                                                  'sim_id': i})\n",
    "                        results = results.append(result)\n",
    "                        \n",
    "                        #Get simulated results for heuristic\n",
    "                        for algo in heuristics:\n",
    "                            #print('Running: ', algo.__name__)\n",
    "                            heuristic_res = []\n",
    "                            for j in range(num_sim_heur):\n",
    "                                heuristic_res.append(sample(algo, \n",
    "                                                  np.ones(n).astype(np.bool), \n",
    "                                                  H, p, q, L, A, n))\n",
    "                            result = pd.DataFrame({'population_n':n,\n",
    "                                                    'infected': np.array(heuristic_res).mean(axis=0),\n",
    "                                                       'h': np.arange(H+1),\n",
    "                                                       'algo': algo.__name__,\n",
    "                                                        'p': p,\n",
    "                                                      'q': q,\n",
    "                                                      'L': int(L*n),\n",
    "                                                      'connectedness': adj_con,\n",
    "                                                      'sim_id': i})\n",
    "                            results = results.append(result)\n",
    "            \n",
    "    results.to_csv('opt_vs_heuristic_tests.csv', index = False)    \n",
    "    print(\"total time taken this loop: \", time.time() - start1)\n"
   ]
  },
  {
   "cell_type": "markdown",
   "metadata": {},
   "source": [
    "### Heuristics (Large Samples)\n",
    "Code to generate results for testing heuristics onlarger problem instances."
   ]
  },
  {
   "cell_type": "code",
   "execution_count": null,
   "metadata": {},
   "outputs": [],
   "source": [
    "graph_connectedness = [0.01, 0.1, 0.5, 1]\n",
    "p_list = [0,0.3,0.7,1]\n",
    "q_list = [0,0.3,0.7,1]\n",
    "n_list = [5, 10, 100]\n",
    "L_list = [0,0.1,0.5]\n",
    "H = 9\n",
    "heuristics = [selectRandom, highRisk, highConnection, highBelief, sampleBelief, highBeliefRisk]\n",
    "num_sim = 5\n",
    "\n",
    "\n",
    "results = pd.DataFrame()\n",
    "for n in n_list:\n",
    "    start2 = time.time()\n",
    "    print('Running size: ', n)\n",
    "    for adj_con in graph_connectedness:\n",
    "        for i in range(num_sim):\n",
    "            A = generateAdjacenyMatrix(n, adj_con)\n",
    "            for p in p_list:\n",
    "                for q in q_list:\n",
    "                    for L in L_list:\n",
    "                        for algo in heuristics:\n",
    "                            sample_res = sample(algo, \n",
    "                                              np.ones(n).astype(np.bool), \n",
    "                                              H, p, q, int(L*n), A, n)\n",
    "                            result = pd.DataFrame({'population_n':n,\n",
    "                                                    'infected': sample_res,\n",
    "                                                   'h': np.arange(H+1),\n",
    "                                                   'algo': algo.__name__,\n",
    "                                                    'p': p,\n",
    "                                                  'q': q,\n",
    "                                                  'L': int(L*n),\n",
    "                                                  'connectedness': adj_con,\n",
    "                                                  'sim_id': i})\n",
    "                            #print(result)\n",
    "                            results = results.append(result)\n",
    "            \n",
    "    results.to_csv('heuristic_tests_random_graph.csv', index = False)    \n",
    "    print(\"total time taken this loop: \", time.time() - start2)"
   ]
  },
  {
   "cell_type": "code",
   "execution_count": null,
   "metadata": {},
   "outputs": [],
   "source": []
  }
 ],
 "metadata": {
  "kernelspec": {
   "display_name": "Python 3",
   "language": "python",
   "name": "python3"
  },
  "language_info": {
   "codemirror_mode": {
    "name": "ipython",
    "version": 3
   },
   "file_extension": ".py",
   "mimetype": "text/x-python",
   "name": "python",
   "nbconvert_exporter": "python",
   "pygments_lexer": "ipython3",
   "version": "3.7.4"
  }
 },
 "nbformat": 4,
 "nbformat_minor": 4
}
