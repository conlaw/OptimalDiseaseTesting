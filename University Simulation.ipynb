{
 "cells": [
  {
   "cell_type": "code",
   "execution_count": 1,
   "metadata": {},
   "outputs": [],
   "source": [
    "import numpy as np\n",
    "from university_sim_helpers import *\n",
    "\n",
    "import operator as op\n",
    "import math\n",
    "import numpy as np\n",
    "from collections import Counter\n",
    "\n",
    "#the following three packages control the plot of the simulated university network\n",
    "import networkx as nx\n",
    "from networkx.algorithms import node_classification\n",
    "from PIL import Image\n",
    "import matplotlib.pyplot as plt\n",
    "\n",
    "#the following four needed for run heuristics\n",
    "from simulation_helpers import *\n",
    "from heuristics import *\n",
    "from optimal_policy import V\n",
    "import pandas as pd\n",
    "\n",
    "import os\n",
    "import time"
   ]
  },
  {
   "cell_type": "code",
   "execution_count": 2,
   "metadata": {},
   "outputs": [],
   "source": [
    "# N=100\n",
    "# C=20 \n",
    "# mu=15.0 \n",
    "# sd=3.0 \n",
    "# M=5 #Note that major number should preferably not exceed 25, \n",
    "#      #due to color vector setup in plot function is only limited to length 25\n",
    "# plug=0.05\n",
    "# perc=0.8\n",
    "\n",
    "# A,MS,CS=AdjacencyUniWMajor(N,C,mu,sd,M,plug,perc)\n",
    "# plotUniversityNetwork(A,M,MS)\n",
    "# plt.savefig('testUniversityNetwork.png')\n",
    "# #Image.open('testUniversityNetwork.png')"
   ]
  },
  {
   "cell_type": "code",
   "execution_count": 3,
   "metadata": {},
   "outputs": [],
   "source": [
    "# os.remove('heuristic_tests_university.csv') #each time, clear the existing csv file"
   ]
  },
  {
   "cell_type": "code",
<<<<<<< HEAD
   "execution_count": 4,
   "metadata": {},
   "outputs": [
    {
     "name": "stdout",
     "output_type": "stream",
     "text": [
      "Current running perc:  0 ; Current running sd:  3.0\n"
     ]
    },
    {
     "name": "stderr",
     "output_type": "stream",
     "text": [
      "C:\\Users\\dh622\\AppData\\Local\\Continuum\\anaconda3\\lib\\site-packages\\networkx\\drawing\\nx_pylab.py:579: MatplotlibDeprecationWarning: \n",
      "The iterable function was deprecated in Matplotlib 3.1 and will be removed in 3.3. Use np.iterable instead.\n",
      "  if not cb.iterable(width):\n"
     ]
    },
=======
   "execution_count": 5,
   "metadata": {},
   "outputs": [
>>>>>>> 9748304921e736d369e26bd224eac95efde59e55
    {
     "name": "stdout",
     "output_type": "stream",
     "text": [
<<<<<<< HEAD
      "total time taken this loop:  85.11141967773438\n",
      "Current running perc:  0 ; Current running sd:  5.0\n",
      "total time taken this loop:  203.26211738586426\n",
      "Current running perc:  0 ; Current running sd:  8.0\n",
      "total time taken this loop:  350.31761384010315\n",
      "Current running perc:  0.3 ; Current running sd:  3.0\n",
      "total time taken this loop:  352.75288701057434\n",
      "Current running perc:  0.3 ; Current running sd:  5.0\n",
      "total time taken this loop:  397.7503180503845\n",
      "Current running perc:  0.3 ; Current running sd:  8.0\n",
      "total time taken this loop:  473.8492109775543\n",
      "Current running perc:  0.7 ; Current running sd:  3.0\n",
      "total time taken this loop:  540.9408078193665\n",
      "Current running perc:  0.7 ; Current running sd:  5.0\n",
      "total time taken this loop:  550.0658161640167\n",
      "Current running perc:  0.7 ; Current running sd:  8.0\n",
      "total time taken this loop:  593.7449176311493\n",
      "Current running perc:  1 ; Current running sd:  3.0\n",
      "total time taken this loop:  681.382571220398\n",
      "Current running perc:  1 ; Current running sd:  5.0\n",
      "total time taken this loop:  789.3333132266998\n",
      "Current running perc:  1 ; Current running sd:  8.0\n",
      "total time taken this loop:  868.204018831253\n",
      "total time for this simulation:  5886.921814918518\n"
=======
      "Current running perc:  0 ; Current running sd:  3.0\n",
      "total time taken this loop:  3.4212722778320312\n",
      "Current running perc:  0 ; Current running sd:  5.0\n",
      "total time taken this loop:  3.866743803024292\n",
      "Current running perc:  0 ; Current running sd:  8.0\n",
      "total time taken this loop:  3.931302547454834\n",
      "Current running perc:  0.3 ; Current running sd:  3.0\n",
      "total time taken this loop:  4.629936695098877\n",
      "Current running perc:  0.3 ; Current running sd:  5.0\n",
      "total time taken this loop:  5.185361623764038\n",
      "Current running perc:  0.3 ; Current running sd:  8.0\n",
      "total time taken this loop:  5.9939539432525635\n",
      "Current running perc:  0.7 ; Current running sd:  3.0\n",
      "total time taken this loop:  6.05817723274231\n",
      "Current running perc:  0.7 ; Current running sd:  5.0\n",
      "total time taken this loop:  6.840271711349487\n",
      "Current running perc:  0.7 ; Current running sd:  8.0\n",
      "total time taken this loop:  8.496413946151733\n",
      "Current running perc:  1 ; Current running sd:  3.0\n",
      "total time taken this loop:  8.280887603759766\n",
      "Current running perc:  1 ; Current running sd:  5.0\n",
      "total time taken this loop:  9.272695064544678\n",
      "Current running perc:  1 ; Current running sd:  8.0\n",
      "total time taken this loop:  10.101423263549805\n",
      "total time for this simulation:  76.23227882385254\n"
>>>>>>> 9748304921e736d369e26bd224eac95efde59e55
     ]
    },
    {
     "data": {
<<<<<<< HEAD
      "image/png": "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\n",
=======
      "image/png": "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\n",
>>>>>>> 9748304921e736d369e26bd224eac95efde59e55
      "text/plain": [
       "<Figure size 432x288 with 1 Axes>"
      ]
     },
     "metadata": {},
     "output_type": "display_data"
    }
   ],
   "source": [
    "#n = N\n",
<<<<<<< HEAD
    "p_list = [0.01,0.3,0.5]\n",
    "q_list = [0,0.3,0.7]\n",
=======
    "p_list = [0.1,0.25,0.5]\n",
    "q_list = [0,0.25,0.5]\n",
>>>>>>> 9748304921e736d369e26bd224eac95efde59e55
    "n_list = [100] #fix the number of students in school\n",
    "#example: for computational sake cannot simulate too large a network\n",
    "\n",
    "L_list = [0,0.25,0.5] #percentage of population to be tested\n",
    "H = 9\n",
    "heuristics = [selectRandom, highRisk, highConnection, highBelief, sampleBelief, highBeliefRisk]\n",
<<<<<<< HEAD
    "num_sim = 50\n",
=======
    "num_sim = 500\n",
>>>>>>> 9748304921e736d369e26bd224eac95efde59e55
    "\n",
    "C=20 #number of classes opened by the school\n",
    "mu=15.0 #avg number of students per class\n",
    "sd_list=[3.0,5.0,8.0] #sd of students per class, vary sd to adjust for probability of getting larger class size\n",
    "M=5#Note that major number should preferably not exceed 25, \n",
    "     #due to color vector setup in plot function is only limited to length 25\n",
    "plug=0.98*1/M\n",
    "perc_list=[0,0.3,0.7,1]\n",
    "\n",
    "results = pd.DataFrame()\n",
<<<<<<< HEAD
    "A_storage=np.zeros((sum(n_list),sum(n_list),np.shape(sd_list)[0]*np.shape(perc_list)[0]))\n",
    "MS_storage=np.zeros((np.shape(sd_list)[0]*np.shape(perc_list)[0],M))\n",
    "onestart=time.time()\n",
    "for n in n_list: #fixed, no. of students in school\n",
    "    j=0\n",
    "    for perc in perc_list:\n",
    "        for sd in sd_list: \n",
    "            plt.clf() #clear the figure\n",
    "            start = time.time()\n",
    "            print('Current running perc: ', perc,'; Current running sd: ', sd)\n",
    "            \n",
    "            A,MS,CS = AdjacencyUniWMajor(n,C,mu,sd,M,plug,perc)\n",
    "            A_storage[:,:,j]=A\n",
    "            MS_storage[j,:]=MS\n",
    "            j=j+1\n",
    "            \n",
    "            plotUniversityNetwork(A,M,MS)\n",
    "            plt.savefig('UniversityNetwork_perc_'+str(perc)+'_sd'+str(sd)+'.png')\n",
    "            #given the same adjacency matrix, see how the test heruistics perform\n",
    "            \n",
=======
    "onestart=time.time()\n",
    "for n in n_list: #fixed, no. of students in school\n",
    "    for perc in perc_list:\n",
    "        for sd in sd_list:\n",
    "            plt.clf() #clear the figure\n",
    "            \n",
    "            start = time.time()\n",
    "            print('Current running perc: ', perc,'; Current running sd: ', sd)\n",
    "            A,MS,CS = AdjacencyUniWMajor(n,C,mu,sd,M,plug,perc)\n",
    "            plotUniversityNetwork(A,M,MS)\n",
    "            plt.savefig('UniversityNetwork_perc_'+str(perc)+'_sd'+str(sd)+'.png')\n",
    "            #given the same adjacency matrix, see how the test heruistics perform\n",
>>>>>>> 9748304921e736d369e26bd224eac95efde59e55
    "            for i in range(num_sim):\n",
    "                #print('Current perc: ', perc, ' ;Current i; ', i)\n",
    "                for p in p_list:\n",
    "                    for q in q_list:\n",
    "                        for L in L_list:\n",
    "                            for algo in heuristics:\n",
    "                                sample_res = sample(algo, \n",
    "                                                  np.ones(n).astype(np.bool), \n",
    "                                                  H, p, q, int(L*n), A, n)\n",
    "                                result = pd.DataFrame({'population_n':n,\n",
    "                                                        'infected': sample_res,\n",
    "                                                       'h': np.arange(H+1),\n",
    "                                                       'algo': algo.__name__,\n",
    "                                                        'p': p,\n",
    "                                                      'q': q,\n",
    "                                                      'L': int(L*n),\n",
    "                                                      'priority_percentage': perc, #input perc to show differences of connection across majors\n",
    "                                                      'sd':sd,\n",
    "                                                       'sim_id': i})\n",
    "                                #print(result)\n",
    "                                results = results.append(result)\n",
<<<<<<< HEAD
    "\n",
    "            results.to_csv('heuristic_tests_university.csv', index = False)    \n",
    "            print(\"total time taken this loop: \", time.time() - start)\n",
    "\n",
    "print(\"total time for this simulation: \", time.time() - onestart)"
   ]
  },
  {
   "cell_type": "code",
   "execution_count": 54,
   "metadata": {},
   "outputs": [],
   "source": [
    "total_in_storage=np.zeros(np.shape(A_storage)[2])\n",
    "total_out_storage=np.zeros(np.shape(A_storage)[2])\n",
    "\n",
    "for i in range(np.shape(A_storage)[2]):\n",
    "\n",
    "    A_test=A_storage[:,:,i]\n",
    "    MS_test=MS_storage[i,:]\n",
    "    cumMS_test=np.cumsum(MS_test)\n",
    "    MS_test_adj=np.insert(cumMS_test,0,0)\n",
    "\n",
    "    inMajor_con=float(0)\n",
    "    for j in range(np.shape(MS_test)[0]):\n",
    "        sub_A=A_test[int(MS_test_adj[j]):(int(MS_test_adj[j+1])-1),int(MS_test_adj[j]):(int(MS_test_adj[j+1])-1)]\n",
    "        inMajor_con=inMajor_con+float(sum(sum(sub_A)))\n",
    "\n",
    "    total_in_storage[i]=inMajor_con/2\n",
    "    total_out_storage[i]=sum(sum(A_test))/2-total_in_storage[i]\n",
    "    \n"
   ]
  },
  {
   "cell_type": "code",
   "execution_count": 59,
   "metadata": {},
   "outputs": [
    {
     "name": "stdout",
     "output_type": "stream",
     "text": [
      "[0.17042755 0.17923993 0.17802503 0.20440252 0.21505959 0.17936355\n",
      " 0.34631771 0.41813071 0.28730964 0.64712042 0.85745614 0.6716763 ]\n"
     ]
    }
   ],
   "source": [
    "inMajorRatio=np.divide(total_in_storage, total_out_storage+total_in_storage) \n",
    "print(inMajorRatio)"
=======
    "\n",
    "            results.to_csv('heuristic_tests_university.csv', index = False)    \n",
    "            print(\"total time taken this loop: \", time.time() - start)\n",
    "\n",
    "print(\"total time for this simulation: \", time.time() - onestart)"
>>>>>>> 9748304921e736d369e26bd224eac95efde59e55
   ]
  },
  {
   "cell_type": "code",
   "execution_count": null,
   "metadata": {},
   "outputs": [],
   "source": []
  }
 ],
 "metadata": {
  "kernelspec": {
   "display_name": "Python 3",
   "language": "python",
   "name": "python3"
  },
  "language_info": {
   "codemirror_mode": {
    "name": "ipython",
    "version": 3
   },
   "file_extension": ".py",
   "mimetype": "text/x-python",
   "name": "python",
   "nbconvert_exporter": "python",
   "pygments_lexer": "ipython3",
   "version": "3.7.4"
  }
 },
 "nbformat": 4,
 "nbformat_minor": 4
}
